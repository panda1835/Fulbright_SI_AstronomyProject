{
 "cells": [
  {
   "cell_type": "markdown",
   "metadata": {},
   "source": [
    "## Pseudocode\n",
    "\n",
    "Create a dataset name **SI_AstronomicalImage_Dataset.csv** that contains\n",
    "+ **Metadata**\n",
    "+ img_name\n",
    "+ capture date time\n",
    "+ capture location\n",
    "+ camera configuration: ISO\n",
    "+ **Factors**\n",
    "+ AQI\n",
    "+ cloudiness\n",
    "+ light pollution\n",
    "+ moon appearance (moon position relative to the star)\n",
    "+ **Star data**\n",
    "+ bounding box\n",
    "+ average brightness in total\n",
    "+ average brightness in each RGB channel\n",
    "\n",
    "Extract star:\n",
    "+ read the RAW image\n",
    "+ turn to gray scale\n",
    "+ threshhold so that the star is whitened\n",
    "+ get the coordinates of the bounding box of the star\n",
    "+ cut the bounding box from original image\n",
    "+ get the distribution of color graph\n",
    "+ choose the threshold from the distribution that highlight the white star\n",
    "+ threshold to separate the star\n",
    "+ take all the pixels that are near each other\n",
    "+ bolden the star with different color to make sure that the thresholding works\n",
    "+ split the R-G-B values into different lists\n",
    "    \n",
    "Save into dataset\n",
    "+ save the R-G-B lists\n",
    "+ save the mean of each R-G-B list\n",
    "+ save the mean of all"
   ]
  },
  {
   "cell_type": "markdown",
   "metadata": {},
   "source": [
    "## Import libraries"
   ]
  },
  {
   "cell_type": "code",
   "execution_count": null,
   "metadata": {},
   "outputs": [],
   "source": [
    "from matplotlib import pyplot as plt\n",
    "import numpy as np\n",
    "import rawpy\n",
    "import imageio"
   ]
  },
  {
   "cell_type": "markdown",
   "metadata": {},
   "source": [
    "## Image Processing"
   ]
  },
  {
   "cell_type": "code",
   "execution_count": null,
   "metadata": {},
   "outputs": [],
   "source": [
    "def read_image(image_path):\n",
    "    '''\n",
    "    Read the image to a numpy.array type\n",
    "    '''\n",
    "    raw = rawpy.imread(image_path)\n",
    "    rgb = raw.postprocess()\n",
    "    return rgb\n",
    "\n",
    "def show_image(image, size=4):\n",
    "    ''' \n",
    "    Display an image in a numpy.array type. Syntax:\n",
    "    basic_showImg(img, size=4), where\n",
    "    image = image numpy.array;\n",
    "    size = the size to show the image. Its value is 4 by default.\n",
    "    '''\n",
    "    plt.figure(figsize=(size,size))\n",
    "    plt.imshow(image)\n",
    "    plt.show()\n",
    "\n",
    "def save_image(image_path, image):\n",
    "    '''\n",
    "    Save image to the desired format\n",
    "    '''\n",
    "    imageio.imwrite(directory+filename, image)"
   ]
  },
  {
   "cell_type": "markdown",
   "metadata": {},
   "source": [
    "## Reference\n",
    "+ https://stackoverflow.com/questions/2422050/raw-image-processing-in-python\n",
    "+ https://www.kaggle.com/tsilveira/raw-image-processing"
   ]
  },
  {
   "cell_type": "code",
   "execution_count": null,
   "metadata": {},
   "outputs": [],
   "source": []
  }
 ],
 "metadata": {
  "kernelspec": {
   "display_name": "Python 3",
   "language": "python",
   "name": "python3"
  },
  "language_info": {
   "codemirror_mode": {
    "name": "ipython",
    "version": 3
   },
   "file_extension": ".py",
   "mimetype": "text/x-python",
   "name": "python",
   "nbconvert_exporter": "python",
   "pygments_lexer": "ipython3",
   "version": "3.8.5"
  }
 },
 "nbformat": 4,
 "nbformat_minor": 4
}
